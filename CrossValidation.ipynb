{
  "nbformat": 4,
  "nbformat_minor": 0,
  "metadata": {
    "colab": {
      "name": "CrossValidation.ipynb",
      "version": "0.3.2",
      "provenance": [],
      "collapsed_sections": []
    },
    "kernelspec": {
      "name": "python3",
      "display_name": "Python 3"
    },
    "accelerator": "TPU"
  },
  "cells": [
    {
      "cell_type": "code",
      "metadata": {
        "id": "FH7f9cQ72_kn",
        "colab_type": "code",
        "outputId": "116c60cf-f0cf-457b-c0f5-f39cae7efd24",
        "colab": {
          "base_uri": "https://localhost:8080/",
          "height": 51
        }
      },
      "source": [
        "# Import files\n",
        "from __future__ import absolute_import, division, print_function\n",
        "\n",
        "import numpy as np\n",
        "import matplotlib.pyplot as plt\n",
        "import pandas as pd\n",
        "import random\n",
        "from queue import Queue\n",
        "import os\n",
        "\n",
        "import tensorflow as tf\n",
        "from tensorflow import keras\n",
        "from keras.preprocessing.image import ImageDataGenerator\n",
        "\n",
        "from sklearn.model_selection import  train_test_split\n",
        "import re\n",
        "\n",
        "from keras.models import Sequential\n",
        "from keras.layers import Conv2D,MaxPooling2D\n",
        "from keras.layers import Activation,Dropout,Flatten,Dense\n",
        "\n",
        "from google.colab import files\n",
        "\n",
        "print(tf.__version__)\n",
        "from google.colab import drive\n",
        "drive.mount('/content/drive')"
      ],
      "execution_count": 0,
      "outputs": [
        {
          "output_type": "stream",
          "text": [
            "1.14.0\n",
            "Drive already mounted at /content/drive; to attempt to forcibly remount, call drive.mount(\"/content/drive\", force_remount=True).\n"
          ],
          "name": "stdout"
        }
      ]
    },
    {
      "cell_type": "code",
      "metadata": {
        "id": "lkh0_pRIq9k5",
        "colab_type": "code",
        "colab": {}
      },
      "source": [
        "\"\"\"\n",
        "This code block contains methods to load and divide the dataset\n",
        "\"\"\"\n",
        "STEM_NAME = '250EPOCHS_RUN10_'\n",
        "\n",
        "def loadData(series,id_num):\n",
        "    pathData = \"/content/drive/My Drive/ImperialMSC/Data/images{}obj{}.npy\"\n",
        "    pathLabels= \"/content/drive/My Drive/ImperialMSC/Annotations/labels{}.npy\"\n",
        "    data = np.load(pathData.format(series,id_num))\n",
        "    labels = np.load(pathLabels.format(id_num))\n",
        "    return data,labels\n",
        "  \n",
        "def findIds():\n",
        "    listoffiles = os.listdir('/content/drive/My Drive/ImperialMSC/Annotations')\n",
        "    ids = np.zeros(len(listoffiles))\n",
        "    for i,name in enumerate(listoffiles):\n",
        "      ids[i] = int(re.sub(\"[^0-9]\", \"\", name))\n",
        "    return ids\n",
        "  \n",
        "def getDataIndex(test_frac,validation_frac):\n",
        "    # Get dataset number_out is the number of the test series\n",
        "    # validation is the size of the validation set as a fraction of the train set\n",
        "    # validationset is selected randomly\n",
        "    ids = findIds()\n",
        "    num_traces = ids.shape[0]\n",
        "    \n",
        "    test_size = int(num_traces*test_frac)\n",
        "    val_size = int(num_traces*validation_frac)\n",
        "    \n",
        "    test_ind = np.random.choice(ids,test_size,replace = False)\n",
        "    test_ind = test_ind.astype('int')\n",
        "    \n",
        "    remaining_ind = np.array(list(set(ids)-set(test_ind)))\n",
        "    val_ind = np.random.choice(remaining_ind,val_size,replace=False)\n",
        "    val_ind = val_ind.astype('int')\n",
        "    train_ind = np.array(list(set(remaining_ind)-set(val_ind)))\n",
        "    train_ind = train_ind.astype('int')\n",
        "    # Compute validation set size\n",
        "    \n",
        "    return train_ind, val_ind, test_ind\n",
        "  \n",
        "def getDataSet(indexes):\n",
        "    dataSet = np.empty((1,32,32,1))\n",
        "    dataLabels = np.empty(1)\n",
        "    for i in indexes:\n",
        "      data,labels = loadData(3,i)\n",
        "      data = data[:,16:-16,16:-16,1]\n",
        "      data = data/np.max(data)\n",
        "      labels = np.reshape(labels,labels.shape[0])\n",
        "      data = np.reshape(data,(data.shape[0],32,32,1))\n",
        "      dataSet = np.append(dataSet,data,axis=0)\n",
        "      dataLabels = np.append(dataLabels,labels,axis=0)\n",
        "    return dataSet[1:,:,:,:],dataLabels[1:]\n",
        "  \n",
        "def getDataSets(test_size,validation_size):\n",
        "    train_ind, val_ind, test_ind = getDataIndex(test_size,validation_size)\n",
        "    np.save(STEM_NAME + 'TRAIN_IND.npy',train_ind)\n",
        "    np.save(STEM_NAME + 'VAL_IND.npy',val_ind)\n",
        "    np.save(STEM_NAME + 'TEST_IND.npy',test_ind)\n",
        "    \n",
        "    \n",
        "    \n",
        "    \n",
        "    train_data,train_labels = getDataSet(train_ind)\n",
        "    val_data,val_labels = getDataSet(val_ind)\n",
        "    test_data,test_labels = getDataSet(test_ind)\n",
        "    \n",
        "    return train_data,val_data,test_data,train_labels,val_labels,test_labels\n",
        "    \n",
        "  \n",
        "    "
      ],
      "execution_count": 0,
      "outputs": []
    },
    {
      "cell_type": "code",
      "metadata": {
        "id": "Mbkw7wXMHjfy",
        "colab_type": "code",
        "colab": {}
      },
      "source": [
        ""
      ],
      "execution_count": 0,
      "outputs": []
    },
    {
      "cell_type": "code",
      "metadata": {
        "id": "DtK40RI53F6W",
        "colab_type": "code",
        "colab": {}
      },
      "source": [
        "\n",
        "# GEt the datasets and make sure they have the right variable type\n",
        "train_images,val_images,test_images,train_labels,val_labels,test_labels = getDataSets(0.1,0.1)\n",
        "class_names = ['G1','S','G2','M']\n",
        "train_labels = train_labels.astype('int32')\n",
        "val_labels = val_labels.astype('int32')\n",
        "test_labels = test_labels.astype('int32')\n",
        "\n",
        "\n"
      ],
      "execution_count": 0,
      "outputs": []
    },
    {
      "cell_type": "code",
      "metadata": {
        "id": "zQii8KVCHrVa",
        "colab_type": "code",
        "colab": {}
      },
      "source": [
        "# Download files with indexes to be able to recreate\n",
        "files.download(STEM_NAME + 'TRAIN_IND.npy')\n",
        "files.download(STEM_NAME + 'VAL_IND.npy')\n",
        "files.download(STEM_NAME + 'TEST_IND.npy')"
      ],
      "execution_count": 0,
      "outputs": []
    },
    {
      "cell_type": "code",
      "metadata": {
        "id": "5WmDREatxXTi",
        "colab_type": "code",
        "outputId": "a0faa0a8-f20e-49e0-f2f7-e69540cc2d22",
        "colab": {
          "base_uri": "https://localhost:8080/",
          "height": 34
        }
      },
      "source": [
        "train_images.shape[0]+test_images.shape[0] + val_images.shape[0]"
      ],
      "execution_count": 0,
      "outputs": [
        {
          "output_type": "execute_result",
          "data": {
            "text/plain": [
              "6039"
            ]
          },
          "metadata": {
            "tags": []
          },
          "execution_count": 155
        }
      ]
    },
    {
      "cell_type": "code",
      "metadata": {
        "id": "ws0gzYcpNAFb",
        "colab_type": "code",
        "colab": {}
      },
      "source": [
        "# Image data generators for data augumentation\n",
        "datagen = ImageDataGenerator(\n",
        "            rotation_range=40,\n",
        "            zoom_range=0.2,\n",
        "            horizontal_flip=True,\n",
        "            vertical_flip=True,\n",
        "            fill_mode = 'nearest')\n",
        "\n",
        "datagenVal = ImageDataGenerator(rotation_range=0,\n",
        "                               zoom_range=0,\n",
        "                               horizontal_flip = False,\n",
        "                               vertical_flip=False)"
      ],
      "execution_count": 0,
      "outputs": []
    },
    {
      "cell_type": "code",
      "metadata": {
        "id": "GzlABBHC3HyV",
        "colab_type": "code",
        "colab": {}
      },
      "source": [
        "# Define two different models\n",
        "# First a dense feed forward network\n",
        "# then the full CNN model\n",
        "def denseModel():\n",
        "  model = Sequential([\n",
        "      Flatten(input_shape=(32,32,1)),\n",
        "      Dense(128,activation='relu'),\n",
        "      Dense(4,activation='softmax')\n",
        "  ])\n",
        "  return model\n",
        "\n",
        "def ConvModel():\n",
        "  model = Sequential()\n",
        "  model.add(Conv2D(32, (3, 3), input_shape=(32, 32,1)))\n",
        "  model.add(Activation('relu'))\n",
        "  model.add(MaxPooling2D(pool_size=(2, 2)))\n",
        "\n",
        "  model.add(Conv2D(32, (3, 3)))\n",
        "  model.add(Activation('relu'))\n",
        "  model.add(MaxPooling2D(pool_size=(2, 2)))\n",
        "\n",
        "  model.add(Conv2D(64, (3, 3)))\n",
        "  model.add(Activation('relu'))\n",
        "  model.add(MaxPooling2D(pool_size=(2, 2)))\n",
        "  model.add(Flatten())  # this converts our 3D feature maps to 1D feature vectors\n",
        "  model.add(Dense(64))\n",
        "  model.add(Activation('relu'))\n",
        "  model.add(Dropout(0.5))\n",
        "  model.add(Dense(4))\n",
        "  model.add(Activation('softmax'))\n",
        "\n",
        "  return model"
      ],
      "execution_count": 0,
      "outputs": []
    },
    {
      "cell_type": "code",
      "metadata": {
        "id": "ReHNFy_JQzAj",
        "colab_type": "code",
        "colab": {}
      },
      "source": [
        "# Set batch size and create dataset generators\n",
        "batch_size = 16\n",
        "train_generator = datagen.flow(train_images,train_labels,batch_size)\n",
        "validation_generator = datagen.flow(val_images,val_labels,batch_size)"
      ],
      "execution_count": 0,
      "outputs": []
    },
    {
      "cell_type": "code",
      "metadata": {
        "id": "Zgp3tsZ8MSmh",
        "colab_type": "code",
        "colab": {}
      },
      "source": [
        "# Load and compile model\n",
        "model = ConvModel()\n",
        "model.compile(loss='sparse_categorical_crossentropy',optimizer='adam',metrics=['accuracy','categorical_accuracy'])\n",
        "#model.load_weights('/content/drive/My Drive/ImperialMSC/Code/100EpochsConvolutional.h5')"
      ],
      "execution_count": 0,
      "outputs": []
    },
    {
      "cell_type": "code",
      "metadata": {
        "id": "8qyRHBb1sX3u",
        "colab_type": "code",
        "outputId": "a3a7d2cc-5949-464f-e4a2-d88daeaf382f",
        "colab": {
          "base_uri": "https://localhost:8080/",
          "height": 921
        }
      },
      "source": [
        "# Summarizse model\n",
        "model.summary()"
      ],
      "execution_count": 0,
      "outputs": [
        {
          "output_type": "stream",
          "text": [
            "WARNING: Logging before flag parsing goes to stderr.\n",
            "W0904 09:53:39.511864 139913801738112 deprecation_wrapper.py:119] From /usr/local/lib/python3.6/dist-packages/keras/backend/tensorflow_backend.py:66: The name tf.get_default_graph is deprecated. Please use tf.compat.v1.get_default_graph instead.\n",
            "\n",
            "W0904 09:53:39.565799 139913801738112 deprecation_wrapper.py:119] From /usr/local/lib/python3.6/dist-packages/keras/backend/tensorflow_backend.py:541: The name tf.placeholder is deprecated. Please use tf.compat.v1.placeholder instead.\n",
            "\n",
            "W0904 09:53:39.572419 139913801738112 deprecation_wrapper.py:119] From /usr/local/lib/python3.6/dist-packages/keras/backend/tensorflow_backend.py:4432: The name tf.random_uniform is deprecated. Please use tf.random.uniform instead.\n",
            "\n",
            "W0904 09:53:39.625013 139913801738112 deprecation_wrapper.py:119] From /usr/local/lib/python3.6/dist-packages/keras/backend/tensorflow_backend.py:4267: The name tf.nn.max_pool is deprecated. Please use tf.nn.max_pool2d instead.\n",
            "\n",
            "W0904 09:53:39.678060 139913801738112 deprecation_wrapper.py:119] From /usr/local/lib/python3.6/dist-packages/keras/backend/tensorflow_backend.py:148: The name tf.placeholder_with_default is deprecated. Please use tf.compat.v1.placeholder_with_default instead.\n",
            "\n",
            "W0904 09:53:39.688017 139913801738112 deprecation.py:506] From /usr/local/lib/python3.6/dist-packages/keras/backend/tensorflow_backend.py:3733: calling dropout (from tensorflow.python.ops.nn_ops) with keep_prob is deprecated and will be removed in a future version.\n",
            "Instructions for updating:\n",
            "Please use `rate` instead of `keep_prob`. Rate should be set to `rate = 1 - keep_prob`.\n"
          ],
          "name": "stderr"
        },
        {
          "output_type": "stream",
          "text": [
            "Model: \"sequential_1\"\n",
            "_________________________________________________________________\n",
            "Layer (type)                 Output Shape              Param #   \n",
            "=================================================================\n",
            "conv2d_1 (Conv2D)            (None, 30, 30, 32)        320       \n",
            "_________________________________________________________________\n",
            "activation_1 (Activation)    (None, 30, 30, 32)        0         \n",
            "_________________________________________________________________\n",
            "max_pooling2d_1 (MaxPooling2 (None, 15, 15, 32)        0         \n",
            "_________________________________________________________________\n",
            "conv2d_2 (Conv2D)            (None, 13, 13, 32)        9248      \n",
            "_________________________________________________________________\n",
            "activation_2 (Activation)    (None, 13, 13, 32)        0         \n",
            "_________________________________________________________________\n",
            "max_pooling2d_2 (MaxPooling2 (None, 6, 6, 32)          0         \n",
            "_________________________________________________________________\n",
            "conv2d_3 (Conv2D)            (None, 4, 4, 64)          18496     \n",
            "_________________________________________________________________\n",
            "activation_3 (Activation)    (None, 4, 4, 64)          0         \n",
            "_________________________________________________________________\n",
            "max_pooling2d_3 (MaxPooling2 (None, 2, 2, 64)          0         \n",
            "_________________________________________________________________\n",
            "flatten_1 (Flatten)          (None, 256)               0         \n",
            "_________________________________________________________________\n",
            "dense_1 (Dense)              (None, 64)                16448     \n",
            "_________________________________________________________________\n",
            "activation_4 (Activation)    (None, 64)                0         \n",
            "_________________________________________________________________\n",
            "dropout_1 (Dropout)          (None, 64)                0         \n",
            "_________________________________________________________________\n",
            "dense_2 (Dense)              (None, 4)                 260       \n",
            "_________________________________________________________________\n",
            "activation_5 (Activation)    (None, 4)                 0         \n",
            "=================================================================\n",
            "Total params: 44,772\n",
            "Trainable params: 44,772\n",
            "Non-trainable params: 0\n",
            "_________________________________________________________________\n"
          ],
          "name": "stdout"
        }
      ]
    },
    {
      "cell_type": "code",
      "metadata": {
        "id": "S4qpugteMgB7",
        "colab_type": "code",
        "outputId": "a498544e-5037-4668-deb0-a91822e4ac64",
        "colab": {
          "base_uri": "https://localhost:8080/",
          "height": 1000
        }
      },
      "source": [
        "# Train the model for 250 generations\n",
        "EPOCHS = 250\n",
        "model.fit_generator(train_generator,\n",
        "                     steps_per_epoch=2000//batch_size,\n",
        "                     epochs=EPOCHS,\n",
        "                     validation_data=validation_generator,\n",
        "                     validation_steps=800//batch_size)\n"
      ],
      "execution_count": 0,
      "outputs": [
        {
          "output_type": "stream",
          "text": [
            "Epoch 1/250\n",
            "125/125 [==============================] - 6s 47ms/step - loss: 1.1678 - acc: 0.5100 - categorical_accuracy: 0.0095 - val_loss: 1.1356 - val_acc: 0.5599 - val_categorical_accuracy: 0.0000e+00\n",
            "Epoch 2/250\n",
            "125/125 [==============================] - 4s 29ms/step - loss: 1.1438 - acc: 0.5010 - categorical_accuracy: 0.0160 - val_loss: 1.0820 - val_acc: 0.5751 - val_categorical_accuracy: 0.0000e+00\n",
            "Epoch 3/250\n",
            "125/125 [==============================] - 4s 29ms/step - loss: 1.1433 - acc: 0.4937 - categorical_accuracy: 0.0155 - val_loss: 1.0573 - val_acc: 0.5623 - val_categorical_accuracy: 0.0000e+00\n",
            "Epoch 4/250\n",
            "125/125 [==============================] - 4s 29ms/step - loss: 1.1171 - acc: 0.5015 - categorical_accuracy: 0.0195 - val_loss: 1.0318 - val_acc: 0.5649 - val_categorical_accuracy: 0.0000e+00\n",
            "Epoch 5/250\n",
            "125/125 [==============================] - 4s 29ms/step - loss: 1.0570 - acc: 0.5350 - categorical_accuracy: 0.1415 - val_loss: 1.0367 - val_acc: 0.6043 - val_categorical_accuracy: 0.3130\n",
            "Epoch 6/250\n",
            "125/125 [==============================] - 4s 29ms/step - loss: 1.0129 - acc: 0.5612 - categorical_accuracy: 0.2256 - val_loss: 1.1275 - val_acc: 0.5216 - val_categorical_accuracy: 0.4746\n",
            "Epoch 7/250\n",
            "125/125 [==============================] - 4s 29ms/step - loss: 0.9907 - acc: 0.5710 - categorical_accuracy: 0.2460 - val_loss: 0.9966 - val_acc: 0.6040 - val_categorical_accuracy: 0.3493\n",
            "Epoch 8/250\n",
            "125/125 [==============================] - 3s 28ms/step - loss: 0.9396 - acc: 0.6103 - categorical_accuracy: 0.2712 - val_loss: 0.8645 - val_acc: 0.6425 - val_categorical_accuracy: 0.1260\n",
            "Epoch 9/250\n",
            "125/125 [==============================] - 4s 29ms/step - loss: 0.8410 - acc: 0.6565 - categorical_accuracy: 0.2655 - val_loss: 0.7372 - val_acc: 0.6336 - val_categorical_accuracy: 0.1132\n",
            "Epoch 10/250\n",
            "125/125 [==============================] - 4s 29ms/step - loss: 0.7750 - acc: 0.6795 - categorical_accuracy: 0.3350 - val_loss: 0.6277 - val_acc: 0.7417 - val_categorical_accuracy: 0.2163\n",
            "Epoch 11/250\n",
            "125/125 [==============================] - 4s 29ms/step - loss: 0.7048 - acc: 0.7329 - categorical_accuracy: 0.3367 - val_loss: 0.6994 - val_acc: 0.6756 - val_categorical_accuracy: 0.1463\n",
            "Epoch 12/250\n",
            "125/125 [==============================] - 4s 29ms/step - loss: 0.6805 - acc: 0.7280 - categorical_accuracy: 0.3340 - val_loss: 0.5581 - val_acc: 0.8104 - val_categorical_accuracy: 0.2061\n",
            "Epoch 13/250\n",
            "125/125 [==============================] - 4s 29ms/step - loss: 0.6587 - acc: 0.7430 - categorical_accuracy: 0.3140 - val_loss: 0.5765 - val_acc: 0.7583 - val_categorical_accuracy: 0.1463\n",
            "Epoch 14/250\n",
            "125/125 [==============================] - 4s 29ms/step - loss: 0.6123 - acc: 0.7690 - categorical_accuracy: 0.3327 - val_loss: 0.5079 - val_acc: 0.8121 - val_categorical_accuracy: 0.2888\n",
            "Epoch 15/250\n",
            "125/125 [==============================] - 4s 29ms/step - loss: 0.5999 - acc: 0.7815 - categorical_accuracy: 0.3170 - val_loss: 0.5027 - val_acc: 0.7990 - val_categorical_accuracy: 0.1781\n",
            "Epoch 16/250\n",
            "125/125 [==============================] - 4s 29ms/step - loss: 0.5828 - acc: 0.7839 - categorical_accuracy: 0.3250 - val_loss: 0.5181 - val_acc: 0.7939 - val_categorical_accuracy: 0.2392\n",
            "Epoch 17/250\n",
            "125/125 [==============================] - 4s 29ms/step - loss: 0.5731 - acc: 0.7990 - categorical_accuracy: 0.3155 - val_loss: 0.4930 - val_acc: 0.7990 - val_categorical_accuracy: 0.1628\n",
            "Epoch 18/250\n",
            "125/125 [==============================] - 4s 29ms/step - loss: 0.5855 - acc: 0.7795 - categorical_accuracy: 0.3245 - val_loss: 0.6118 - val_acc: 0.7048 - val_categorical_accuracy: 0.1858\n",
            "Epoch 19/250\n",
            "125/125 [==============================] - 4s 28ms/step - loss: 0.5673 - acc: 0.7879 - categorical_accuracy: 0.3096 - val_loss: 0.6494 - val_acc: 0.7087 - val_categorical_accuracy: 0.1527\n",
            "Epoch 20/250\n",
            "125/125 [==============================] - 4s 29ms/step - loss: 0.5462 - acc: 0.8085 - categorical_accuracy: 0.3160 - val_loss: 0.4935 - val_acc: 0.7913 - val_categorical_accuracy: 0.2214\n",
            "Epoch 21/250\n",
            "125/125 [==============================] - 4s 28ms/step - loss: 0.5248 - acc: 0.8139 - categorical_accuracy: 0.2953 - val_loss: 0.5451 - val_acc: 0.7692 - val_categorical_accuracy: 0.2308\n",
            "Epoch 22/250\n",
            "125/125 [==============================] - 4s 28ms/step - loss: 0.5353 - acc: 0.8095 - categorical_accuracy: 0.3190 - val_loss: 0.4167 - val_acc: 0.8372 - val_categorical_accuracy: 0.1908\n",
            "Epoch 23/250\n",
            "125/125 [==============================] - 4s 28ms/step - loss: 0.5190 - acc: 0.8130 - categorical_accuracy: 0.3230 - val_loss: 0.4123 - val_acc: 0.8486 - val_categorical_accuracy: 0.2277\n",
            "Epoch 24/250\n",
            "125/125 [==============================] - 3s 28ms/step - loss: 0.4976 - acc: 0.8260 - categorical_accuracy: 0.3155 - val_loss: 0.4055 - val_acc: 0.8613 - val_categorical_accuracy: 0.2061\n",
            "Epoch 25/250\n",
            "125/125 [==============================] - 4s 28ms/step - loss: 0.5558 - acc: 0.8025 - categorical_accuracy: 0.3090 - val_loss: 0.6767 - val_acc: 0.6896 - val_categorical_accuracy: 0.1349\n",
            "Epoch 26/250\n",
            "125/125 [==============================] - 3s 28ms/step - loss: 0.5101 - acc: 0.8190 - categorical_accuracy: 0.3070 - val_loss: 0.4811 - val_acc: 0.7939 - val_categorical_accuracy: 0.1654\n",
            "Epoch 27/250\n",
            "125/125 [==============================] - 4s 30ms/step - loss: 0.5177 - acc: 0.8084 - categorical_accuracy: 0.3187 - val_loss: 0.4146 - val_acc: 0.8753 - val_categorical_accuracy: 0.2188\n",
            "Epoch 28/250\n",
            "125/125 [==============================] - 4s 30ms/step - loss: 0.5048 - acc: 0.8155 - categorical_accuracy: 0.2905 - val_loss: 0.5067 - val_acc: 0.8033 - val_categorical_accuracy: 0.1311\n",
            "Epoch 29/250\n",
            "125/125 [==============================] - 4s 29ms/step - loss: 0.4623 - acc: 0.8405 - categorical_accuracy: 0.3212 - val_loss: 0.4015 - val_acc: 0.8613 - val_categorical_accuracy: 0.2176\n",
            "Epoch 30/250\n",
            "125/125 [==============================] - 4s 28ms/step - loss: 0.5320 - acc: 0.8195 - categorical_accuracy: 0.3160 - val_loss: 0.4149 - val_acc: 0.8499 - val_categorical_accuracy: 0.1756\n",
            "Epoch 31/250\n",
            "125/125 [==============================] - 4s 29ms/step - loss: 0.4792 - acc: 0.8405 - categorical_accuracy: 0.2880 - val_loss: 0.3718 - val_acc: 0.8702 - val_categorical_accuracy: 0.1934\n",
            "Epoch 32/250\n",
            "125/125 [==============================] - 4s 30ms/step - loss: 0.4790 - acc: 0.8295 - categorical_accuracy: 0.3108 - val_loss: 0.3591 - val_acc: 0.8740 - val_categorical_accuracy: 0.1845\n",
            "Epoch 33/250\n",
            "125/125 [==============================] - 4s 29ms/step - loss: 0.4903 - acc: 0.8250 - categorical_accuracy: 0.3045 - val_loss: 0.4218 - val_acc: 0.8397 - val_categorical_accuracy: 0.1768\n",
            "Epoch 34/250\n",
            "125/125 [==============================] - 4s 28ms/step - loss: 0.4850 - acc: 0.8380 - categorical_accuracy: 0.2961 - val_loss: 0.3790 - val_acc: 0.8638 - val_categorical_accuracy: 0.1765\n",
            "Epoch 35/250\n",
            "125/125 [==============================] - 4s 29ms/step - loss: 0.4890 - acc: 0.8240 - categorical_accuracy: 0.2985 - val_loss: 0.4551 - val_acc: 0.8270 - val_categorical_accuracy: 0.1947\n",
            "Epoch 36/250\n",
            "125/125 [==============================] - 4s 30ms/step - loss: 0.4607 - acc: 0.8450 - categorical_accuracy: 0.3030 - val_loss: 0.3597 - val_acc: 0.8639 - val_categorical_accuracy: 0.2010\n",
            "Epoch 37/250\n",
            "125/125 [==============================] - 4s 29ms/step - loss: 0.4958 - acc: 0.8294 - categorical_accuracy: 0.2826 - val_loss: 0.4566 - val_acc: 0.8092 - val_categorical_accuracy: 0.1527\n",
            "Epoch 38/250\n",
            "125/125 [==============================] - 3s 28ms/step - loss: 0.4916 - acc: 0.8290 - categorical_accuracy: 0.3185 - val_loss: 0.4114 - val_acc: 0.8562 - val_categorical_accuracy: 0.1679\n",
            "Epoch 39/250\n",
            "125/125 [==============================] - 4s 29ms/step - loss: 0.4368 - acc: 0.8425 - categorical_accuracy: 0.3015 - val_loss: 0.3242 - val_acc: 0.8931 - val_categorical_accuracy: 0.1972\n",
            "Epoch 40/250\n",
            "125/125 [==============================] - 4s 29ms/step - loss: 0.4514 - acc: 0.8558 - categorical_accuracy: 0.3107 - val_loss: 0.4583 - val_acc: 0.8206 - val_categorical_accuracy: 0.1628\n",
            "Epoch 41/250\n",
            "125/125 [==============================] - 4s 29ms/step - loss: 0.4949 - acc: 0.8260 - categorical_accuracy: 0.3065 - val_loss: 0.3697 - val_acc: 0.8916 - val_categorical_accuracy: 0.2030\n",
            "Epoch 42/250\n",
            "125/125 [==============================] - 4s 29ms/step - loss: 0.4594 - acc: 0.8559 - categorical_accuracy: 0.2942 - val_loss: 0.4263 - val_acc: 0.8626 - val_categorical_accuracy: 0.1858\n",
            "Epoch 43/250\n",
            "125/125 [==============================] - 4s 28ms/step - loss: 0.4614 - acc: 0.8365 - categorical_accuracy: 0.2960 - val_loss: 0.4541 - val_acc: 0.8193 - val_categorical_accuracy: 0.1692\n",
            "Epoch 44/250\n",
            "125/125 [==============================] - 4s 28ms/step - loss: 0.4629 - acc: 0.8495 - categorical_accuracy: 0.3070 - val_loss: 0.3295 - val_acc: 0.8944 - val_categorical_accuracy: 0.2125\n",
            "Epoch 45/250\n",
            "125/125 [==============================] - 4s 29ms/step - loss: 0.4695 - acc: 0.8399 - categorical_accuracy: 0.2995 - val_loss: 0.3878 - val_acc: 0.8715 - val_categorical_accuracy: 0.1654\n",
            "Epoch 46/250\n",
            "125/125 [==============================] - 4s 29ms/step - loss: 0.4492 - acc: 0.8465 - categorical_accuracy: 0.3085 - val_loss: 0.4041 - val_acc: 0.8677 - val_categorical_accuracy: 0.1819\n",
            "Epoch 47/250\n",
            "125/125 [==============================] - 4s 29ms/step - loss: 0.4451 - acc: 0.8429 - categorical_accuracy: 0.3028 - val_loss: 0.3624 - val_acc: 0.8817 - val_categorical_accuracy: 0.1819\n",
            "Epoch 48/250\n",
            "125/125 [==============================] - 4s 29ms/step - loss: 0.4420 - acc: 0.8515 - categorical_accuracy: 0.3020 - val_loss: 0.3838 - val_acc: 0.8625 - val_categorical_accuracy: 0.1513\n",
            "Epoch 49/250\n",
            "125/125 [==============================] - 4s 30ms/step - loss: 0.4538 - acc: 0.8500 - categorical_accuracy: 0.2905 - val_loss: 0.3524 - val_acc: 0.8804 - val_categorical_accuracy: 0.1985\n",
            "Epoch 50/250\n",
            "125/125 [==============================] - 4s 29ms/step - loss: 0.4682 - acc: 0.8510 - categorical_accuracy: 0.3086 - val_loss: 0.4689 - val_acc: 0.8155 - val_categorical_accuracy: 0.1705\n",
            "Epoch 51/250\n",
            "125/125 [==============================] - 4s 29ms/step - loss: 0.4197 - acc: 0.8555 - categorical_accuracy: 0.3020 - val_loss: 0.3644 - val_acc: 0.8766 - val_categorical_accuracy: 0.1781\n",
            "Epoch 52/250\n",
            "125/125 [==============================] - 4s 29ms/step - loss: 0.4541 - acc: 0.8475 - categorical_accuracy: 0.2945 - val_loss: 0.4388 - val_acc: 0.8270 - val_categorical_accuracy: 0.1489\n",
            "Epoch 53/250\n",
            "125/125 [==============================] - 4s 29ms/step - loss: 0.4194 - acc: 0.8560 - categorical_accuracy: 0.2927 - val_loss: 0.3403 - val_acc: 0.8842 - val_categorical_accuracy: 0.1972\n",
            "Epoch 54/250\n",
            "125/125 [==============================] - 4s 30ms/step - loss: 0.4426 - acc: 0.8550 - categorical_accuracy: 0.2850 - val_loss: 0.3561 - val_acc: 0.8779 - val_categorical_accuracy: 0.1794\n",
            "Epoch 55/250\n",
            "125/125 [==============================] - 4s 29ms/step - loss: 0.4729 - acc: 0.8529 - categorical_accuracy: 0.3090 - val_loss: 0.4001 - val_acc: 0.8651 - val_categorical_accuracy: 0.1791\n",
            "Epoch 56/250\n",
            "125/125 [==============================] - 4s 30ms/step - loss: 0.4262 - acc: 0.8605 - categorical_accuracy: 0.2950 - val_loss: 0.4289 - val_acc: 0.8473 - val_categorical_accuracy: 0.1527\n",
            "Epoch 57/250\n",
            "125/125 [==============================] - 4s 30ms/step - loss: 0.4459 - acc: 0.8545 - categorical_accuracy: 0.3070 - val_loss: 0.3623 - val_acc: 0.8842 - val_categorical_accuracy: 0.2099\n",
            "Epoch 58/250\n",
            "125/125 [==============================] - 4s 29ms/step - loss: 0.4457 - acc: 0.8535 - categorical_accuracy: 0.3076 - val_loss: 0.3916 - val_acc: 0.8804 - val_categorical_accuracy: 0.1947\n",
            "Epoch 59/250\n",
            "125/125 [==============================] - 4s 29ms/step - loss: 0.4088 - acc: 0.8650 - categorical_accuracy: 0.2815 - val_loss: 0.4192 - val_acc: 0.8372 - val_categorical_accuracy: 0.2176\n",
            "Epoch 60/250\n",
            "125/125 [==============================] - 4s 30ms/step - loss: 0.4468 - acc: 0.8635 - categorical_accuracy: 0.3086 - val_loss: 0.3236 - val_acc: 0.8995 - val_categorical_accuracy: 0.1997\n",
            "Epoch 61/250\n",
            "125/125 [==============================] - 4s 29ms/step - loss: 0.4145 - acc: 0.8635 - categorical_accuracy: 0.3025 - val_loss: 0.3355 - val_acc: 0.8979 - val_categorical_accuracy: 0.2093\n",
            "Epoch 62/250\n",
            "125/125 [==============================] - 4s 30ms/step - loss: 0.4338 - acc: 0.8600 - categorical_accuracy: 0.2700 - val_loss: 0.4499 - val_acc: 0.8155 - val_categorical_accuracy: 0.1667\n",
            "Epoch 63/250\n",
            "125/125 [==============================] - 4s 30ms/step - loss: 0.4270 - acc: 0.8605 - categorical_accuracy: 0.3138 - val_loss: 0.3531 - val_acc: 0.8804 - val_categorical_accuracy: 0.1908\n",
            "Epoch 64/250\n",
            "125/125 [==============================] - 4s 29ms/step - loss: 0.4094 - acc: 0.8640 - categorical_accuracy: 0.3050 - val_loss: 0.3613 - val_acc: 0.8601 - val_categorical_accuracy: 0.1743\n",
            "Epoch 65/250\n",
            "125/125 [==============================] - 4s 29ms/step - loss: 0.4135 - acc: 0.8640 - categorical_accuracy: 0.2750 - val_loss: 0.3592 - val_acc: 0.8893 - val_categorical_accuracy: 0.2010\n",
            "Epoch 66/250\n",
            "125/125 [==============================] - 4s 28ms/step - loss: 0.4356 - acc: 0.8563 - categorical_accuracy: 0.2871 - val_loss: 0.3126 - val_acc: 0.8919 - val_categorical_accuracy: 0.1705\n",
            "Epoch 67/250\n",
            "125/125 [==============================] - 4s 28ms/step - loss: 0.4075 - acc: 0.8565 - categorical_accuracy: 0.2870 - val_loss: 0.3705 - val_acc: 0.8626 - val_categorical_accuracy: 0.1667\n",
            "Epoch 68/250\n",
            "125/125 [==============================] - 4s 28ms/step - loss: 0.3998 - acc: 0.8690 - categorical_accuracy: 0.3037 - val_loss: 0.2972 - val_acc: 0.9067 - val_categorical_accuracy: 0.2093\n",
            "Epoch 69/250\n",
            "125/125 [==============================] - 4s 28ms/step - loss: 0.4096 - acc: 0.8685 - categorical_accuracy: 0.2980 - val_loss: 0.3170 - val_acc: 0.8969 - val_categorical_accuracy: 0.2036\n",
            "Epoch 70/250\n",
            "125/125 [==============================] - 4s 29ms/step - loss: 0.4388 - acc: 0.8570 - categorical_accuracy: 0.3000 - val_loss: 0.3655 - val_acc: 0.8753 - val_categorical_accuracy: 0.1692\n",
            "Epoch 71/250\n",
            "125/125 [==============================] - 4s 30ms/step - loss: 0.4097 - acc: 0.8625 - categorical_accuracy: 0.3039 - val_loss: 0.2993 - val_acc: 0.9059 - val_categorical_accuracy: 0.2163\n",
            "Epoch 72/250\n",
            "125/125 [==============================] - 4s 31ms/step - loss: 0.4007 - acc: 0.8760 - categorical_accuracy: 0.2840 - val_loss: 0.3365 - val_acc: 0.8931 - val_categorical_accuracy: 0.2010\n",
            "Epoch 73/250\n",
            "125/125 [==============================] - 4s 29ms/step - loss: 0.4109 - acc: 0.8590 - categorical_accuracy: 0.2995 - val_loss: 0.3463 - val_acc: 0.8791 - val_categorical_accuracy: 0.1985\n",
            "Epoch 74/250\n",
            "125/125 [==============================] - 3s 28ms/step - loss: 0.4015 - acc: 0.8665 - categorical_accuracy: 0.2895 - val_loss: 0.3312 - val_acc: 0.8919 - val_categorical_accuracy: 0.1845\n",
            "Epoch 75/250\n",
            "125/125 [==============================] - 4s 28ms/step - loss: 0.4349 - acc: 0.8595 - categorical_accuracy: 0.2915 - val_loss: 0.3251 - val_acc: 0.8916 - val_categorical_accuracy: 0.2055\n",
            "Epoch 76/250\n",
            "125/125 [==============================] - 4s 29ms/step - loss: 0.3841 - acc: 0.8779 - categorical_accuracy: 0.3011 - val_loss: 0.4023 - val_acc: 0.8448 - val_categorical_accuracy: 0.1845\n",
            "Epoch 77/250\n",
            "125/125 [==============================] - 4s 29ms/step - loss: 0.4397 - acc: 0.8480 - categorical_accuracy: 0.2965 - val_loss: 0.3716 - val_acc: 0.8779 - val_categorical_accuracy: 0.1934\n",
            "Epoch 78/250\n",
            "125/125 [==============================] - 4s 29ms/step - loss: 0.3667 - acc: 0.8875 - categorical_accuracy: 0.2875 - val_loss: 0.3620 - val_acc: 0.8702 - val_categorical_accuracy: 0.1552\n",
            "Epoch 79/250\n",
            "125/125 [==============================] - 4s 28ms/step - loss: 0.4020 - acc: 0.8670 - categorical_accuracy: 0.3005 - val_loss: 0.3403 - val_acc: 0.8931 - val_categorical_accuracy: 0.1883\n",
            "Epoch 80/250\n",
            "125/125 [==============================] - 4s 29ms/step - loss: 0.4065 - acc: 0.8575 - categorical_accuracy: 0.2955 - val_loss: 0.3225 - val_acc: 0.8931 - val_categorical_accuracy: 0.1896\n",
            "Epoch 81/250\n",
            "125/125 [==============================] - 3s 28ms/step - loss: 0.3767 - acc: 0.8740 - categorical_accuracy: 0.2875 - val_loss: 0.3121 - val_acc: 0.8931 - val_categorical_accuracy: 0.2137\n",
            "Epoch 82/250\n",
            "125/125 [==============================] - 3s 28ms/step - loss: 0.4100 - acc: 0.8595 - categorical_accuracy: 0.3115 - val_loss: 0.3572 - val_acc: 0.8777 - val_categorical_accuracy: 0.1665\n",
            "Epoch 83/250\n",
            "125/125 [==============================] - 4s 29ms/step - loss: 0.4122 - acc: 0.8615 - categorical_accuracy: 0.2890 - val_loss: 0.3238 - val_acc: 0.8969 - val_categorical_accuracy: 0.2099\n",
            "Epoch 84/250\n",
            "125/125 [==============================] - 4s 30ms/step - loss: 0.3824 - acc: 0.8814 - categorical_accuracy: 0.2836 - val_loss: 0.3358 - val_acc: 0.8868 - val_categorical_accuracy: 0.1858\n",
            "Epoch 85/250\n",
            "125/125 [==============================] - 4s 29ms/step - loss: 0.4110 - acc: 0.8680 - categorical_accuracy: 0.3025 - val_loss: 0.4791 - val_acc: 0.8003 - val_categorical_accuracy: 0.1616\n",
            "Epoch 86/250\n",
            "125/125 [==============================] - 4s 29ms/step - loss: 0.3993 - acc: 0.8725 - categorical_accuracy: 0.2865 - val_loss: 0.3145 - val_acc: 0.9122 - val_categorical_accuracy: 0.2125\n",
            "Epoch 87/250\n",
            "125/125 [==============================] - 4s 29ms/step - loss: 0.4062 - acc: 0.8684 - categorical_accuracy: 0.2941 - val_loss: 0.3221 - val_acc: 0.9020 - val_categorical_accuracy: 0.2036\n",
            "Epoch 88/250\n",
            "125/125 [==============================] - 3s 28ms/step - loss: 0.3979 - acc: 0.8755 - categorical_accuracy: 0.3050 - val_loss: 0.3237 - val_acc: 0.8916 - val_categorical_accuracy: 0.1854\n",
            "Epoch 89/250\n",
            "125/125 [==============================] - 4s 29ms/step - loss: 0.3940 - acc: 0.8749 - categorical_accuracy: 0.2871 - val_loss: 0.3664 - val_acc: 0.8791 - val_categorical_accuracy: 0.1628\n",
            "Epoch 90/250\n",
            "125/125 [==============================] - 4s 29ms/step - loss: 0.4049 - acc: 0.8725 - categorical_accuracy: 0.2870 - val_loss: 0.3092 - val_acc: 0.8957 - val_categorical_accuracy: 0.1921\n",
            "Epoch 91/250\n",
            "125/125 [==============================] - 4s 30ms/step - loss: 0.3983 - acc: 0.8655 - categorical_accuracy: 0.3050 - val_loss: 0.3240 - val_acc: 0.8931 - val_categorical_accuracy: 0.1972\n",
            "Epoch 92/250\n",
            "125/125 [==============================] - 3s 28ms/step - loss: 0.3943 - acc: 0.8715 - categorical_accuracy: 0.2901 - val_loss: 0.3186 - val_acc: 0.8944 - val_categorical_accuracy: 0.1908\n",
            "Epoch 93/250\n",
            "125/125 [==============================] - 4s 28ms/step - loss: 0.3819 - acc: 0.8655 - categorical_accuracy: 0.2880 - val_loss: 0.3212 - val_acc: 0.8969 - val_categorical_accuracy: 0.2137\n",
            "Epoch 94/250\n",
            "125/125 [==============================] - 4s 29ms/step - loss: 0.3738 - acc: 0.8745 - categorical_accuracy: 0.3121 - val_loss: 0.2944 - val_acc: 0.9097 - val_categorical_accuracy: 0.1972\n",
            "Epoch 95/250\n",
            "125/125 [==============================] - 4s 29ms/step - loss: 0.3697 - acc: 0.8860 - categorical_accuracy: 0.2880 - val_loss: 0.3159 - val_acc: 0.8991 - val_categorical_accuracy: 0.2156\n",
            "Epoch 96/250\n",
            "125/125 [==============================] - 4s 30ms/step - loss: 0.3594 - acc: 0.8850 - categorical_accuracy: 0.2980 - val_loss: 0.2907 - val_acc: 0.9071 - val_categorical_accuracy: 0.2099\n",
            "Epoch 97/250\n",
            "125/125 [==============================] - 4s 29ms/step - loss: 0.4127 - acc: 0.8650 - categorical_accuracy: 0.2907 - val_loss: 0.2992 - val_acc: 0.9008 - val_categorical_accuracy: 0.1845\n",
            "Epoch 98/250\n",
            "125/125 [==============================] - 4s 29ms/step - loss: 0.3815 - acc: 0.8780 - categorical_accuracy: 0.2845 - val_loss: 0.3129 - val_acc: 0.9084 - val_categorical_accuracy: 0.1832\n",
            "Epoch 99/250\n",
            "125/125 [==============================] - 4s 28ms/step - loss: 0.3621 - acc: 0.8940 - categorical_accuracy: 0.3005 - val_loss: 0.3156 - val_acc: 0.9059 - val_categorical_accuracy: 0.1908\n",
            "Epoch 100/250\n",
            "125/125 [==============================] - 4s 29ms/step - loss: 0.3657 - acc: 0.8809 - categorical_accuracy: 0.2892 - val_loss: 0.2857 - val_acc: 0.9046 - val_categorical_accuracy: 0.2112\n",
            "Epoch 101/250\n",
            "125/125 [==============================] - 4s 29ms/step - loss: 0.3962 - acc: 0.8765 - categorical_accuracy: 0.2870 - val_loss: 0.3077 - val_acc: 0.9109 - val_categorical_accuracy: 0.2074\n",
            "Epoch 102/250\n",
            "125/125 [==============================] - 4s 29ms/step - loss: 0.4087 - acc: 0.8630 - categorical_accuracy: 0.3177 - val_loss: 0.2951 - val_acc: 0.9117 - val_categorical_accuracy: 0.1917\n",
            "Epoch 103/250\n",
            "125/125 [==============================] - 4s 30ms/step - loss: 0.3852 - acc: 0.8745 - categorical_accuracy: 0.2975 - val_loss: 0.2874 - val_acc: 0.9122 - val_categorical_accuracy: 0.2087\n",
            "Epoch 104/250\n",
            "125/125 [==============================] - 4s 29ms/step - loss: 0.3620 - acc: 0.8800 - categorical_accuracy: 0.2905 - val_loss: 0.3673 - val_acc: 0.8880 - val_categorical_accuracy: 0.2048\n",
            "Epoch 105/250\n",
            "125/125 [==============================] - 4s 29ms/step - loss: 0.3579 - acc: 0.8849 - categorical_accuracy: 0.2877 - val_loss: 0.3505 - val_acc: 0.8906 - val_categorical_accuracy: 0.1794\n",
            "Epoch 106/250\n",
            "125/125 [==============================] - 4s 29ms/step - loss: 0.3995 - acc: 0.8680 - categorical_accuracy: 0.2940 - val_loss: 0.3188 - val_acc: 0.9008 - val_categorical_accuracy: 0.2048\n",
            "Epoch 107/250\n",
            "125/125 [==============================] - 4s 29ms/step - loss: 0.3590 - acc: 0.8810 - categorical_accuracy: 0.3073 - val_loss: 0.2797 - val_acc: 0.9160 - val_categorical_accuracy: 0.2277\n",
            "Epoch 108/250\n",
            "125/125 [==============================] - 4s 28ms/step - loss: 0.3885 - acc: 0.8755 - categorical_accuracy: 0.2865 - val_loss: 0.2843 - val_acc: 0.9097 - val_categorical_accuracy: 0.2061\n",
            "Epoch 109/250\n",
            "125/125 [==============================] - 4s 29ms/step - loss: 0.3594 - acc: 0.8930 - categorical_accuracy: 0.2970 - val_loss: 0.2847 - val_acc: 0.9016 - val_categorical_accuracy: 0.1816\n",
            "Epoch 110/250\n",
            "125/125 [==============================] - 4s 29ms/step - loss: 0.3740 - acc: 0.8830 - categorical_accuracy: 0.2946 - val_loss: 0.2678 - val_acc: 0.9198 - val_categorical_accuracy: 0.2214\n",
            "Epoch 111/250\n",
            "125/125 [==============================] - 4s 28ms/step - loss: 0.3529 - acc: 0.8875 - categorical_accuracy: 0.2755 - val_loss: 0.3411 - val_acc: 0.8919 - val_categorical_accuracy: 0.1997\n",
            "Epoch 112/250\n",
            "125/125 [==============================] - 4s 28ms/step - loss: 0.3763 - acc: 0.8765 - categorical_accuracy: 0.3095 - val_loss: 0.2660 - val_acc: 0.9275 - val_categorical_accuracy: 0.2150\n",
            "Epoch 113/250\n",
            "125/125 [==============================] - 3s 28ms/step - loss: 0.3541 - acc: 0.8829 - categorical_accuracy: 0.2845 - val_loss: 0.2755 - val_acc: 0.9148 - val_categorical_accuracy: 0.2010\n",
            "Epoch 114/250\n",
            "125/125 [==============================] - 3s 28ms/step - loss: 0.3604 - acc: 0.8860 - categorical_accuracy: 0.2960 - val_loss: 0.3104 - val_acc: 0.8995 - val_categorical_accuracy: 0.1947\n",
            "Epoch 115/250\n",
            "125/125 [==============================] - 4s 28ms/step - loss: 0.3935 - acc: 0.8730 - categorical_accuracy: 0.3021 - val_loss: 0.2815 - val_acc: 0.9105 - val_categorical_accuracy: 0.2156\n",
            "Epoch 116/250\n",
            "125/125 [==============================] - 4s 29ms/step - loss: 0.3576 - acc: 0.8960 - categorical_accuracy: 0.2910 - val_loss: 0.2674 - val_acc: 0.9198 - val_categorical_accuracy: 0.1908\n",
            "Epoch 117/250\n",
            "125/125 [==============================] - 3s 28ms/step - loss: 0.3255 - acc: 0.8965 - categorical_accuracy: 0.3005 - val_loss: 0.3199 - val_acc: 0.8982 - val_categorical_accuracy: 0.1972\n",
            "Epoch 118/250\n",
            "125/125 [==============================] - 4s 28ms/step - loss: 0.3885 - acc: 0.8795 - categorical_accuracy: 0.2831 - val_loss: 0.2736 - val_acc: 0.9211 - val_categorical_accuracy: 0.2277\n",
            "Epoch 119/250\n",
            "125/125 [==============================] - 4s 29ms/step - loss: 0.3073 - acc: 0.9080 - categorical_accuracy: 0.2825 - val_loss: 0.3135 - val_acc: 0.9020 - val_categorical_accuracy: 0.2023\n",
            "Epoch 120/250\n",
            "125/125 [==============================] - 4s 28ms/step - loss: 0.3654 - acc: 0.8770 - categorical_accuracy: 0.2876 - val_loss: 0.3402 - val_acc: 0.8690 - val_categorical_accuracy: 0.2099\n",
            "Epoch 121/250\n",
            "125/125 [==============================] - 4s 29ms/step - loss: 0.3629 - acc: 0.8920 - categorical_accuracy: 0.3100 - val_loss: 0.3165 - val_acc: 0.9122 - val_categorical_accuracy: 0.1959\n",
            "Epoch 122/250\n",
            "125/125 [==============================] - 3s 28ms/step - loss: 0.3910 - acc: 0.8700 - categorical_accuracy: 0.2975 - val_loss: 0.2809 - val_acc: 0.9231 - val_categorical_accuracy: 0.2093\n",
            "Epoch 123/250\n",
            "125/125 [==============================] - 3s 28ms/step - loss: 0.3553 - acc: 0.8855 - categorical_accuracy: 0.2870 - val_loss: 0.3091 - val_acc: 0.9059 - val_categorical_accuracy: 0.2214\n",
            "Epoch 124/250\n",
            "125/125 [==============================] - 3s 28ms/step - loss: 0.3427 - acc: 0.8915 - categorical_accuracy: 0.2975 - val_loss: 0.3140 - val_acc: 0.8944 - val_categorical_accuracy: 0.1985\n",
            "Epoch 125/250\n",
            "125/125 [==============================] - 4s 28ms/step - loss: 0.3325 - acc: 0.8910 - categorical_accuracy: 0.2915 - val_loss: 0.2761 - val_acc: 0.9237 - val_categorical_accuracy: 0.2074\n",
            "Epoch 126/250\n",
            "125/125 [==============================] - 4s 29ms/step - loss: 0.3653 - acc: 0.8850 - categorical_accuracy: 0.2935 - val_loss: 0.3254 - val_acc: 0.9020 - val_categorical_accuracy: 0.1870\n",
            "Epoch 127/250\n",
            "125/125 [==============================] - 4s 29ms/step - loss: 0.3639 - acc: 0.8915 - categorical_accuracy: 0.2860 - val_loss: 0.3660 - val_acc: 0.8651 - val_categorical_accuracy: 0.1959\n",
            "Epoch 128/250\n",
            "125/125 [==============================] - 4s 28ms/step - loss: 0.3473 - acc: 0.8840 - categorical_accuracy: 0.2837 - val_loss: 0.2920 - val_acc: 0.9071 - val_categorical_accuracy: 0.2048\n",
            "Epoch 129/250\n",
            "125/125 [==============================] - 4s 28ms/step - loss: 0.3675 - acc: 0.8850 - categorical_accuracy: 0.2905 - val_loss: 0.3063 - val_acc: 0.9016 - val_categorical_accuracy: 0.2043\n",
            "Epoch 130/250\n",
            "125/125 [==============================] - 4s 29ms/step - loss: 0.3255 - acc: 0.9040 - categorical_accuracy: 0.2960 - val_loss: 0.2905 - val_acc: 0.9135 - val_categorical_accuracy: 0.1997\n",
            "Epoch 131/250\n",
            "125/125 [==============================] - 4s 28ms/step - loss: 0.3338 - acc: 0.8974 - categorical_accuracy: 0.2867 - val_loss: 0.3722 - val_acc: 0.8791 - val_categorical_accuracy: 0.1832\n",
            "Epoch 132/250\n",
            "125/125 [==============================] - 4s 29ms/step - loss: 0.3479 - acc: 0.8920 - categorical_accuracy: 0.2955 - val_loss: 0.2532 - val_acc: 0.9275 - val_categorical_accuracy: 0.2023\n",
            "Epoch 133/250\n",
            "125/125 [==============================] - 4s 29ms/step - loss: 0.3543 - acc: 0.8910 - categorical_accuracy: 0.2920 - val_loss: 0.3067 - val_acc: 0.8931 - val_categorical_accuracy: 0.2226\n",
            "Epoch 134/250\n",
            "125/125 [==============================] - 4s 29ms/step - loss: 0.3399 - acc: 0.8880 - categorical_accuracy: 0.2914 - val_loss: 0.2891 - val_acc: 0.9084 - val_categorical_accuracy: 0.2252\n",
            "Epoch 135/250\n",
            "125/125 [==============================] - 4s 28ms/step - loss: 0.3255 - acc: 0.8950 - categorical_accuracy: 0.3005 - val_loss: 0.4107 - val_acc: 0.8651 - val_categorical_accuracy: 0.1858\n",
            "Epoch 136/250\n",
            "125/125 [==============================] - 4s 29ms/step - loss: 0.3360 - acc: 0.8940 - categorical_accuracy: 0.2936 - val_loss: 0.2773 - val_acc: 0.9079 - val_categorical_accuracy: 0.2295\n",
            "Epoch 137/250\n",
            "125/125 [==============================] - 4s 29ms/step - loss: 0.3808 - acc: 0.8810 - categorical_accuracy: 0.2810 - val_loss: 0.2575 - val_acc: 0.9249 - val_categorical_accuracy: 0.2023\n",
            "Epoch 138/250\n",
            "125/125 [==============================] - 4s 28ms/step - loss: 0.3126 - acc: 0.8990 - categorical_accuracy: 0.2935 - val_loss: 0.2687 - val_acc: 0.9224 - val_categorical_accuracy: 0.2010\n",
            "Epoch 139/250\n",
            "125/125 [==============================] - 4s 29ms/step - loss: 0.3404 - acc: 0.8945 - categorical_accuracy: 0.2947 - val_loss: 0.2554 - val_acc: 0.9211 - val_categorical_accuracy: 0.2137\n",
            "Epoch 140/250\n",
            "125/125 [==============================] - 4s 29ms/step - loss: 0.3336 - acc: 0.8910 - categorical_accuracy: 0.2785 - val_loss: 0.2964 - val_acc: 0.9122 - val_categorical_accuracy: 0.1858\n",
            "Epoch 141/250\n",
            "125/125 [==============================] - 3s 28ms/step - loss: 0.3519 - acc: 0.8854 - categorical_accuracy: 0.3033 - val_loss: 0.2773 - val_acc: 0.9198 - val_categorical_accuracy: 0.2150\n",
            "Epoch 142/250\n",
            "125/125 [==============================] - 4s 28ms/step - loss: 0.3393 - acc: 0.8920 - categorical_accuracy: 0.2690 - val_loss: 0.2928 - val_acc: 0.9231 - val_categorical_accuracy: 0.2169\n",
            "Epoch 143/250\n",
            "125/125 [==============================] - 3s 28ms/step - loss: 0.3505 - acc: 0.8925 - categorical_accuracy: 0.3120 - val_loss: 0.3169 - val_acc: 0.9020 - val_categorical_accuracy: 0.1997\n",
            "Epoch 144/250\n",
            "125/125 [==============================] - 4s 28ms/step - loss: 0.3602 - acc: 0.8904 - categorical_accuracy: 0.2913 - val_loss: 0.3089 - val_acc: 0.8995 - val_categorical_accuracy: 0.1947\n",
            "Epoch 145/250\n",
            "125/125 [==============================] - 3s 28ms/step - loss: 0.3175 - acc: 0.8980 - categorical_accuracy: 0.2925 - val_loss: 0.2916 - val_acc: 0.9148 - val_categorical_accuracy: 0.2316\n",
            "Epoch 146/250\n",
            "125/125 [==============================] - 3s 27ms/step - loss: 0.3341 - acc: 0.8920 - categorical_accuracy: 0.2880 - val_loss: 0.2714 - val_acc: 0.9224 - val_categorical_accuracy: 0.1959\n",
            "Epoch 147/250\n",
            "125/125 [==============================] - 4s 29ms/step - loss: 0.3216 - acc: 0.8980 - categorical_accuracy: 0.2926 - val_loss: 0.3057 - val_acc: 0.9148 - val_categorical_accuracy: 0.1972\n",
            "Epoch 148/250\n",
            "125/125 [==============================] - 3s 28ms/step - loss: 0.3479 - acc: 0.8845 - categorical_accuracy: 0.2860 - val_loss: 0.3155 - val_acc: 0.9020 - val_categorical_accuracy: 0.1756\n",
            "Epoch 149/250\n",
            "125/125 [==============================] - 3s 28ms/step - loss: 0.3359 - acc: 0.8960 - categorical_accuracy: 0.2842 - val_loss: 0.2953 - val_acc: 0.9054 - val_categorical_accuracy: 0.2169\n",
            "Epoch 150/250\n",
            "125/125 [==============================] - 4s 29ms/step - loss: 0.3656 - acc: 0.8830 - categorical_accuracy: 0.2985 - val_loss: 0.3081 - val_acc: 0.8931 - val_categorical_accuracy: 0.1870\n",
            "Epoch 151/250\n",
            "125/125 [==============================] - 4s 28ms/step - loss: 0.3246 - acc: 0.9035 - categorical_accuracy: 0.2775 - val_loss: 0.2774 - val_acc: 0.9160 - val_categorical_accuracy: 0.1985\n",
            "Epoch 152/250\n",
            "125/125 [==============================] - 4s 29ms/step - loss: 0.3539 - acc: 0.8940 - categorical_accuracy: 0.3001 - val_loss: 0.2863 - val_acc: 0.9211 - val_categorical_accuracy: 0.2226\n",
            "Epoch 153/250\n",
            "125/125 [==============================] - 4s 28ms/step - loss: 0.3302 - acc: 0.8965 - categorical_accuracy: 0.2925 - val_loss: 0.2537 - val_acc: 0.9313 - val_categorical_accuracy: 0.2214\n",
            "Epoch 154/250\n",
            "125/125 [==============================] - 4s 29ms/step - loss: 0.3394 - acc: 0.9010 - categorical_accuracy: 0.2871 - val_loss: 0.4297 - val_acc: 0.8588 - val_categorical_accuracy: 0.1781\n",
            "Epoch 155/250\n",
            "125/125 [==============================] - 4s 29ms/step - loss: 0.3481 - acc: 0.8950 - categorical_accuracy: 0.2875 - val_loss: 0.2539 - val_acc: 0.9313 - val_categorical_accuracy: 0.2099\n",
            "Epoch 156/250\n",
            "125/125 [==============================] - 4s 29ms/step - loss: 0.3353 - acc: 0.8880 - categorical_accuracy: 0.2900 - val_loss: 0.3073 - val_acc: 0.9155 - val_categorical_accuracy: 0.1980\n",
            "Epoch 157/250\n",
            "125/125 [==============================] - 4s 28ms/step - loss: 0.3382 - acc: 0.8949 - categorical_accuracy: 0.2895 - val_loss: 0.2809 - val_acc: 0.9160 - val_categorical_accuracy: 0.2061\n",
            "Epoch 158/250\n",
            "125/125 [==============================] - 4s 29ms/step - loss: 0.3482 - acc: 0.8880 - categorical_accuracy: 0.2970 - val_loss: 0.2632 - val_acc: 0.9186 - val_categorical_accuracy: 0.1934\n",
            "Epoch 159/250\n",
            "125/125 [==============================] - 4s 30ms/step - loss: 0.3435 - acc: 0.8875 - categorical_accuracy: 0.2825 - val_loss: 0.3023 - val_acc: 0.9097 - val_categorical_accuracy: 0.1959\n",
            "Epoch 160/250\n",
            "125/125 [==============================] - 4s 30ms/step - loss: 0.3158 - acc: 0.8994 - categorical_accuracy: 0.2803 - val_loss: 0.2809 - val_acc: 0.9211 - val_categorical_accuracy: 0.2226\n",
            "Epoch 161/250\n",
            "125/125 [==============================] - 4s 28ms/step - loss: 0.3431 - acc: 0.8885 - categorical_accuracy: 0.2990 - val_loss: 0.3056 - val_acc: 0.9148 - val_categorical_accuracy: 0.2214\n",
            "Epoch 162/250\n",
            "125/125 [==============================] - 4s 28ms/step - loss: 0.3326 - acc: 0.8988 - categorical_accuracy: 0.3108 - val_loss: 0.2471 - val_acc: 0.9288 - val_categorical_accuracy: 0.2061\n",
            "Epoch 163/250\n",
            "125/125 [==============================] - 4s 28ms/step - loss: 0.3410 - acc: 0.8855 - categorical_accuracy: 0.2735 - val_loss: 0.2958 - val_acc: 0.9105 - val_categorical_accuracy: 0.1866\n",
            "Epoch 164/250\n",
            "125/125 [==============================] - 4s 28ms/step - loss: 0.3400 - acc: 0.8885 - categorical_accuracy: 0.3025 - val_loss: 0.2939 - val_acc: 0.9148 - val_categorical_accuracy: 0.2112\n",
            "Epoch 165/250\n",
            "125/125 [==============================] - 4s 29ms/step - loss: 0.3371 - acc: 0.8913 - categorical_accuracy: 0.2842 - val_loss: 0.2912 - val_acc: 0.9084 - val_categorical_accuracy: 0.1921\n",
            "Epoch 166/250\n",
            "125/125 [==============================] - 4s 29ms/step - loss: 0.3315 - acc: 0.8930 - categorical_accuracy: 0.3010 - val_loss: 0.2882 - val_acc: 0.9109 - val_categorical_accuracy: 0.2048\n",
            "Epoch 167/250\n",
            "125/125 [==============================] - 3s 27ms/step - loss: 0.3329 - acc: 0.8939 - categorical_accuracy: 0.2783 - val_loss: 0.2790 - val_acc: 0.9122 - val_categorical_accuracy: 0.2137\n",
            "Epoch 168/250\n",
            "125/125 [==============================] - 4s 29ms/step - loss: 0.3124 - acc: 0.8915 - categorical_accuracy: 0.2975 - val_loss: 0.2847 - val_acc: 0.9148 - val_categorical_accuracy: 0.2061\n",
            "Epoch 169/250\n",
            "125/125 [==============================] - 3s 28ms/step - loss: 0.3312 - acc: 0.8975 - categorical_accuracy: 0.2930 - val_loss: 0.2739 - val_acc: 0.9206 - val_categorical_accuracy: 0.1929\n",
            "Epoch 170/250\n",
            "125/125 [==============================] - 4s 28ms/step - loss: 0.3381 - acc: 0.8943 - categorical_accuracy: 0.2891 - val_loss: 0.2788 - val_acc: 0.9198 - val_categorical_accuracy: 0.2048\n",
            "Epoch 171/250\n",
            "125/125 [==============================] - 4s 30ms/step - loss: 0.3252 - acc: 0.9000 - categorical_accuracy: 0.3065 - val_loss: 0.3117 - val_acc: 0.9135 - val_categorical_accuracy: 0.2125\n",
            "Epoch 172/250\n",
            "125/125 [==============================] - 4s 29ms/step - loss: 0.3325 - acc: 0.8950 - categorical_accuracy: 0.2745 - val_loss: 0.4704 - val_acc: 0.8575 - val_categorical_accuracy: 0.1743\n",
            "Epoch 173/250\n",
            "125/125 [==============================] - 4s 29ms/step - loss: 0.3221 - acc: 0.8950 - categorical_accuracy: 0.2785 - val_loss: 0.3107 - val_acc: 0.8906 - val_categorical_accuracy: 0.1883\n",
            "Epoch 174/250\n",
            "125/125 [==============================] - 4s 29ms/step - loss: 0.3009 - acc: 0.9035 - categorical_accuracy: 0.3025 - val_loss: 0.3195 - val_acc: 0.9033 - val_categorical_accuracy: 0.1997\n",
            "Epoch 175/250\n",
            "125/125 [==============================] - 4s 29ms/step - loss: 0.3167 - acc: 0.8970 - categorical_accuracy: 0.2932 - val_loss: 0.2522 - val_acc: 0.9198 - val_categorical_accuracy: 0.2010\n",
            "Epoch 176/250\n",
            "125/125 [==============================] - 4s 29ms/step - loss: 0.3420 - acc: 0.8965 - categorical_accuracy: 0.2940 - val_loss: 0.3136 - val_acc: 0.8966 - val_categorical_accuracy: 0.1778\n",
            "Epoch 177/250\n",
            "125/125 [==============================] - 4s 28ms/step - loss: 0.3187 - acc: 0.8935 - categorical_accuracy: 0.2855 - val_loss: 0.3086 - val_acc: 0.9109 - val_categorical_accuracy: 0.1908\n",
            "Epoch 178/250\n",
            "125/125 [==============================] - 4s 28ms/step - loss: 0.3033 - acc: 0.8989 - categorical_accuracy: 0.3129 - val_loss: 0.2965 - val_acc: 0.9135 - val_categorical_accuracy: 0.2265\n",
            "Epoch 179/250\n",
            "125/125 [==============================] - 4s 29ms/step - loss: 0.3658 - acc: 0.8790 - categorical_accuracy: 0.2960 - val_loss: 0.3060 - val_acc: 0.9097 - val_categorical_accuracy: 0.2023\n",
            "Epoch 180/250\n",
            "125/125 [==============================] - 4s 30ms/step - loss: 0.3162 - acc: 0.9000 - categorical_accuracy: 0.2645 - val_loss: 0.3078 - val_acc: 0.9084 - val_categorical_accuracy: 0.1934\n",
            "Epoch 181/250\n",
            "125/125 [==============================] - 4s 28ms/step - loss: 0.3247 - acc: 0.8925 - categorical_accuracy: 0.2905 - val_loss: 0.3494 - val_acc: 0.8969 - val_categorical_accuracy: 0.1832\n",
            "Epoch 182/250\n",
            "125/125 [==============================] - 4s 28ms/step - loss: 0.3290 - acc: 0.9015 - categorical_accuracy: 0.2975 - val_loss: 0.2694 - val_acc: 0.9173 - val_categorical_accuracy: 0.2214\n",
            "Epoch 183/250\n",
            "125/125 [==============================] - 4s 28ms/step - loss: 0.3082 - acc: 0.8979 - categorical_accuracy: 0.2907 - val_loss: 0.2816 - val_acc: 0.9269 - val_categorical_accuracy: 0.2131\n",
            "Epoch 184/250\n",
            "125/125 [==============================] - 4s 28ms/step - loss: 0.3589 - acc: 0.8855 - categorical_accuracy: 0.2720 - val_loss: 0.3394 - val_acc: 0.9020 - val_categorical_accuracy: 0.2023\n",
            "Epoch 185/250\n",
            "125/125 [==============================] - 4s 28ms/step - loss: 0.3417 - acc: 0.8805 - categorical_accuracy: 0.3130 - val_loss: 0.2810 - val_acc: 0.9186 - val_categorical_accuracy: 0.1997\n",
            "Epoch 186/250\n",
            "125/125 [==============================] - 4s 28ms/step - loss: 0.3043 - acc: 0.9054 - categorical_accuracy: 0.2972 - val_loss: 0.2780 - val_acc: 0.9275 - val_categorical_accuracy: 0.2265\n",
            "Epoch 187/250\n",
            "125/125 [==============================] - 4s 28ms/step - loss: 0.3242 - acc: 0.9000 - categorical_accuracy: 0.2865 - val_loss: 0.2681 - val_acc: 0.9288 - val_categorical_accuracy: 0.2150\n",
            "Epoch 188/250\n",
            "125/125 [==============================] - 3s 28ms/step - loss: 0.3207 - acc: 0.8990 - categorical_accuracy: 0.2917 - val_loss: 0.2758 - val_acc: 0.9135 - val_categorical_accuracy: 0.1947\n",
            "Epoch 189/250\n",
            "125/125 [==============================] - 3s 28ms/step - loss: 0.3166 - acc: 0.8935 - categorical_accuracy: 0.2825 - val_loss: 0.2903 - val_acc: 0.9097 - val_categorical_accuracy: 0.2010\n",
            "Epoch 190/250\n",
            "125/125 [==============================] - 3s 28ms/step - loss: 0.3079 - acc: 0.9055 - categorical_accuracy: 0.2975 - val_loss: 0.2947 - val_acc: 0.9067 - val_categorical_accuracy: 0.2055\n",
            "Epoch 191/250\n",
            "125/125 [==============================] - 4s 29ms/step - loss: 0.3076 - acc: 0.8994 - categorical_accuracy: 0.2937 - val_loss: 0.2567 - val_acc: 0.9173 - val_categorical_accuracy: 0.1959\n",
            "Epoch 192/250\n",
            "125/125 [==============================] - 4s 29ms/step - loss: 0.2918 - acc: 0.9085 - categorical_accuracy: 0.2860 - val_loss: 0.3912 - val_acc: 0.8868 - val_categorical_accuracy: 0.1692\n",
            "Epoch 193/250\n",
            "125/125 [==============================] - 4s 29ms/step - loss: 0.3311 - acc: 0.8939 - categorical_accuracy: 0.3037 - val_loss: 0.2606 - val_acc: 0.9288 - val_categorical_accuracy: 0.2226\n",
            "Epoch 194/250\n",
            "125/125 [==============================] - 4s 29ms/step - loss: 0.3122 - acc: 0.8970 - categorical_accuracy: 0.2855 - val_loss: 0.2927 - val_acc: 0.9211 - val_categorical_accuracy: 0.2290\n",
            "Epoch 195/250\n",
            "125/125 [==============================] - 4s 29ms/step - loss: 0.3352 - acc: 0.9015 - categorical_accuracy: 0.3010 - val_loss: 0.2748 - val_acc: 0.9173 - val_categorical_accuracy: 0.2112\n",
            "Epoch 196/250\n",
            "125/125 [==============================] - 4s 29ms/step - loss: 0.2874 - acc: 0.9054 - categorical_accuracy: 0.2846 - val_loss: 0.3025 - val_acc: 0.9130 - val_categorical_accuracy: 0.2081\n",
            "Epoch 197/250\n",
            "125/125 [==============================] - 4s 28ms/step - loss: 0.3141 - acc: 0.9040 - categorical_accuracy: 0.2855 - val_loss: 0.2722 - val_acc: 0.9249 - val_categorical_accuracy: 0.2125\n",
            "Epoch 198/250\n",
            "125/125 [==============================] - 4s 28ms/step - loss: 0.3366 - acc: 0.8960 - categorical_accuracy: 0.2995 - val_loss: 0.3018 - val_acc: 0.9211 - val_categorical_accuracy: 0.2099\n",
            "Epoch 199/250\n",
            "125/125 [==============================] - 4s 28ms/step - loss: 0.2931 - acc: 0.9099 - categorical_accuracy: 0.2912 - val_loss: 0.2977 - val_acc: 0.9059 - val_categorical_accuracy: 0.2150\n",
            "Epoch 200/250\n",
            "125/125 [==============================] - 4s 28ms/step - loss: 0.3451 - acc: 0.8915 - categorical_accuracy: 0.2885 - val_loss: 0.3454 - val_acc: 0.8919 - val_categorical_accuracy: 0.1781\n",
            "Epoch 201/250\n",
            "125/125 [==============================] - 4s 29ms/step - loss: 0.3238 - acc: 0.8943 - categorical_accuracy: 0.2971 - val_loss: 0.3115 - val_acc: 0.8995 - val_categorical_accuracy: 0.2048\n",
            "Epoch 202/250\n",
            "125/125 [==============================] - 4s 29ms/step - loss: 0.3161 - acc: 0.8975 - categorical_accuracy: 0.2965 - val_loss: 0.2854 - val_acc: 0.9173 - val_categorical_accuracy: 0.1832\n",
            "Epoch 203/250\n",
            "125/125 [==============================] - 4s 29ms/step - loss: 0.3173 - acc: 0.8905 - categorical_accuracy: 0.2670 - val_loss: 0.3039 - val_acc: 0.9105 - val_categorical_accuracy: 0.2106\n",
            "Epoch 204/250\n",
            "125/125 [==============================] - 4s 28ms/step - loss: 0.3030 - acc: 0.9058 - categorical_accuracy: 0.2866 - val_loss: 0.2521 - val_acc: 0.9275 - val_categorical_accuracy: 0.2061\n",
            "Epoch 205/250\n",
            "125/125 [==============================] - 4s 29ms/step - loss: 0.3038 - acc: 0.9015 - categorical_accuracy: 0.2910 - val_loss: 0.3287 - val_acc: 0.8995 - val_categorical_accuracy: 0.2112\n",
            "Epoch 206/250\n",
            "125/125 [==============================] - 4s 29ms/step - loss: 0.3033 - acc: 0.9090 - categorical_accuracy: 0.3070 - val_loss: 0.2810 - val_acc: 0.9224 - val_categorical_accuracy: 0.2137\n",
            "Epoch 207/250\n",
            "125/125 [==============================] - 4s 29ms/step - loss: 0.2839 - acc: 0.9040 - categorical_accuracy: 0.2851 - val_loss: 0.3058 - val_acc: 0.9122 - val_categorical_accuracy: 0.1845\n",
            "Epoch 208/250\n",
            "125/125 [==============================] - 4s 29ms/step - loss: 0.3059 - acc: 0.8970 - categorical_accuracy: 0.2915 - val_loss: 0.2906 - val_acc: 0.9084 - val_categorical_accuracy: 0.2010\n",
            "Epoch 209/250\n",
            "125/125 [==============================] - 4s 29ms/step - loss: 0.3371 - acc: 0.8895 - categorical_accuracy: 0.2831 - val_loss: 0.2774 - val_acc: 0.9249 - val_categorical_accuracy: 0.2188\n",
            "Epoch 210/250\n",
            "125/125 [==============================] - 4s 28ms/step - loss: 0.3202 - acc: 0.9020 - categorical_accuracy: 0.3010 - val_loss: 0.4471 - val_acc: 0.8487 - val_categorical_accuracy: 0.1892\n",
            "Epoch 211/250\n",
            "125/125 [==============================] - 4s 30ms/step - loss: 0.3214 - acc: 0.9005 - categorical_accuracy: 0.2905 - val_loss: 0.2986 - val_acc: 0.9097 - val_categorical_accuracy: 0.1832\n",
            "Epoch 212/250\n",
            "125/125 [==============================] - 4s 29ms/step - loss: 0.3302 - acc: 0.8827 - categorical_accuracy: 0.2816 - val_loss: 0.3244 - val_acc: 0.9224 - val_categorical_accuracy: 0.2214\n",
            "Epoch 213/250\n",
            "125/125 [==============================] - 4s 28ms/step - loss: 0.3066 - acc: 0.9030 - categorical_accuracy: 0.2925 - val_loss: 0.2725 - val_acc: 0.9135 - val_categorical_accuracy: 0.1972\n",
            "Epoch 214/250\n",
            "125/125 [==============================] - 4s 28ms/step - loss: 0.3294 - acc: 0.8980 - categorical_accuracy: 0.3016 - val_loss: 0.2748 - val_acc: 0.9122 - val_categorical_accuracy: 0.2163\n",
            "Epoch 215/250\n",
            "125/125 [==============================] - 4s 29ms/step - loss: 0.3127 - acc: 0.9005 - categorical_accuracy: 0.2865 - val_loss: 0.3045 - val_acc: 0.9046 - val_categorical_accuracy: 0.1832\n",
            "Epoch 216/250\n",
            "125/125 [==============================] - 4s 29ms/step - loss: 0.3284 - acc: 0.8950 - categorical_accuracy: 0.2945 - val_loss: 0.2604 - val_acc: 0.9224 - val_categorical_accuracy: 0.2125\n",
            "Epoch 217/250\n",
            "125/125 [==============================] - 4s 29ms/step - loss: 0.3045 - acc: 0.9025 - categorical_accuracy: 0.3016 - val_loss: 0.2941 - val_acc: 0.9180 - val_categorical_accuracy: 0.2068\n",
            "Epoch 218/250\n",
            "125/125 [==============================] - 4s 29ms/step - loss: 0.3099 - acc: 0.8995 - categorical_accuracy: 0.2890 - val_loss: 0.2343 - val_acc: 0.9249 - val_categorical_accuracy: 0.2112\n",
            "Epoch 219/250\n",
            "125/125 [==============================] - 4s 30ms/step - loss: 0.3013 - acc: 0.9030 - categorical_accuracy: 0.2845 - val_loss: 0.2925 - val_acc: 0.9148 - val_categorical_accuracy: 0.1934\n",
            "Epoch 220/250\n",
            "125/125 [==============================] - 4s 30ms/step - loss: 0.3493 - acc: 0.8925 - categorical_accuracy: 0.2785 - val_loss: 0.2856 - val_acc: 0.9122 - val_categorical_accuracy: 0.1997\n",
            "Epoch 221/250\n",
            "125/125 [==============================] - 4s 30ms/step - loss: 0.2953 - acc: 0.9050 - categorical_accuracy: 0.2920 - val_loss: 0.2745 - val_acc: 0.9160 - val_categorical_accuracy: 0.2048\n",
            "Epoch 222/250\n",
            "125/125 [==============================] - 4s 29ms/step - loss: 0.2885 - acc: 0.9100 - categorical_accuracy: 0.2961 - val_loss: 0.3374 - val_acc: 0.8906 - val_categorical_accuracy: 0.1959\n",
            "Epoch 223/250\n",
            "125/125 [==============================] - 4s 28ms/step - loss: 0.2762 - acc: 0.9120 - categorical_accuracy: 0.2880 - val_loss: 0.3030 - val_acc: 0.9054 - val_categorical_accuracy: 0.2119\n",
            "Epoch 224/250\n",
            "125/125 [==============================] - 4s 29ms/step - loss: 0.3294 - acc: 0.8855 - categorical_accuracy: 0.2905 - val_loss: 0.2842 - val_acc: 0.9084 - val_categorical_accuracy: 0.1972\n",
            "Epoch 225/250\n",
            "125/125 [==============================] - 3s 28ms/step - loss: 0.3102 - acc: 0.8980 - categorical_accuracy: 0.2786 - val_loss: 0.3123 - val_acc: 0.9046 - val_categorical_accuracy: 0.1997\n",
            "Epoch 226/250\n",
            "125/125 [==============================] - 4s 28ms/step - loss: 0.3078 - acc: 0.9025 - categorical_accuracy: 0.3015 - val_loss: 0.3126 - val_acc: 0.8931 - val_categorical_accuracy: 0.2099\n",
            "Epoch 227/250\n",
            "125/125 [==============================] - 3s 28ms/step - loss: 0.3101 - acc: 0.9065 - categorical_accuracy: 0.3000 - val_loss: 0.2769 - val_acc: 0.9198 - val_categorical_accuracy: 0.2087\n",
            "Epoch 228/250\n",
            "125/125 [==============================] - 4s 28ms/step - loss: 0.2813 - acc: 0.9095 - categorical_accuracy: 0.2975 - val_loss: 0.2975 - val_acc: 0.9109 - val_categorical_accuracy: 0.2099\n",
            "Epoch 229/250\n",
            "125/125 [==============================] - 3s 27ms/step - loss: 0.2907 - acc: 0.9040 - categorical_accuracy: 0.2910 - val_loss: 0.3043 - val_acc: 0.9237 - val_categorical_accuracy: 0.2125\n",
            "Epoch 230/250\n",
            "125/125 [==============================] - 4s 28ms/step - loss: 0.3149 - acc: 0.8974 - categorical_accuracy: 0.2756 - val_loss: 0.3189 - val_acc: 0.9054 - val_categorical_accuracy: 0.2030\n",
            "Epoch 231/250\n",
            "125/125 [==============================] - 3s 27ms/step - loss: 0.3082 - acc: 0.9075 - categorical_accuracy: 0.2925 - val_loss: 0.2700 - val_acc: 0.9198 - val_categorical_accuracy: 0.2048\n",
            "Epoch 232/250\n",
            "125/125 [==============================] - 3s 28ms/step - loss: 0.3167 - acc: 0.9010 - categorical_accuracy: 0.2900 - val_loss: 0.2947 - val_acc: 0.9135 - val_categorical_accuracy: 0.2163\n",
            "Epoch 233/250\n",
            "125/125 [==============================] - 4s 28ms/step - loss: 0.2880 - acc: 0.9115 - categorical_accuracy: 0.3002 - val_loss: 0.2539 - val_acc: 0.9186 - val_categorical_accuracy: 0.1934\n",
            "Epoch 234/250\n",
            "125/125 [==============================] - 4s 29ms/step - loss: 0.3013 - acc: 0.9010 - categorical_accuracy: 0.2925 - val_loss: 0.4184 - val_acc: 0.8817 - val_categorical_accuracy: 0.2010\n",
            "Epoch 235/250\n",
            "125/125 [==============================] - 3s 27ms/step - loss: 0.3262 - acc: 0.8954 - categorical_accuracy: 0.2918 - val_loss: 0.2842 - val_acc: 0.9148 - val_categorical_accuracy: 0.2036\n",
            "Epoch 236/250\n",
            "125/125 [==============================] - 3s 28ms/step - loss: 0.3186 - acc: 0.9030 - categorical_accuracy: 0.2890 - val_loss: 0.2845 - val_acc: 0.9122 - val_categorical_accuracy: 0.2201\n",
            "Epoch 237/250\n",
            "125/125 [==============================] - 3s 28ms/step - loss: 0.2923 - acc: 0.9050 - categorical_accuracy: 0.3010 - val_loss: 0.2440 - val_acc: 0.9231 - val_categorical_accuracy: 0.2144\n",
            "Epoch 238/250\n",
            "125/125 [==============================] - 4s 28ms/step - loss: 0.2952 - acc: 0.9110 - categorical_accuracy: 0.2851 - val_loss: 0.3372 - val_acc: 0.8995 - val_categorical_accuracy: 0.2048\n",
            "Epoch 239/250\n",
            "125/125 [==============================] - 4s 28ms/step - loss: 0.2928 - acc: 0.9010 - categorical_accuracy: 0.2925 - val_loss: 0.2516 - val_acc: 0.9211 - val_categorical_accuracy: 0.1934\n",
            "Epoch 240/250\n",
            "125/125 [==============================] - 4s 28ms/step - loss: 0.3074 - acc: 0.9025 - categorical_accuracy: 0.2931 - val_loss: 0.2592 - val_acc: 0.9186 - val_categorical_accuracy: 0.2061\n",
            "Epoch 241/250\n",
            "125/125 [==============================] - 3s 28ms/step - loss: 0.2868 - acc: 0.9040 - categorical_accuracy: 0.3060 - val_loss: 0.3344 - val_acc: 0.9071 - val_categorical_accuracy: 0.2099\n",
            "Epoch 242/250\n",
            "125/125 [==============================] - 4s 28ms/step - loss: 0.2791 - acc: 0.9150 - categorical_accuracy: 0.2795 - val_loss: 0.3206 - val_acc: 0.9059 - val_categorical_accuracy: 0.1896\n",
            "Epoch 243/250\n",
            "125/125 [==============================] - 4s 28ms/step - loss: 0.3000 - acc: 0.9029 - categorical_accuracy: 0.2788 - val_loss: 0.3187 - val_acc: 0.9122 - val_categorical_accuracy: 0.2048\n",
            "Epoch 244/250\n",
            "125/125 [==============================] - 4s 29ms/step - loss: 0.2856 - acc: 0.9065 - categorical_accuracy: 0.2935 - val_loss: 0.2830 - val_acc: 0.9155 - val_categorical_accuracy: 0.2182\n",
            "Epoch 245/250\n",
            "125/125 [==============================] - 4s 31ms/step - loss: 0.2896 - acc: 0.9055 - categorical_accuracy: 0.2955 - val_loss: 0.3039 - val_acc: 0.9059 - val_categorical_accuracy: 0.1768\n",
            "Epoch 246/250\n",
            "125/125 [==============================] - 4s 30ms/step - loss: 0.2951 - acc: 0.9095 - categorical_accuracy: 0.2882 - val_loss: 0.2832 - val_acc: 0.9109 - val_categorical_accuracy: 0.2087\n",
            "Epoch 247/250\n",
            "125/125 [==============================] - 4s 31ms/step - loss: 0.3072 - acc: 0.9035 - categorical_accuracy: 0.2910 - val_loss: 0.3128 - val_acc: 0.9097 - val_categorical_accuracy: 0.2061\n",
            "Epoch 248/250\n",
            "125/125 [==============================] - 4s 30ms/step - loss: 0.3246 - acc: 0.8965 - categorical_accuracy: 0.2921 - val_loss: 0.2741 - val_acc: 0.9224 - val_categorical_accuracy: 0.2048\n",
            "Epoch 249/250\n",
            "125/125 [==============================] - 4s 30ms/step - loss: 0.2983 - acc: 0.8995 - categorical_accuracy: 0.2945 - val_loss: 0.2786 - val_acc: 0.9249 - val_categorical_accuracy: 0.2188\n",
            "Epoch 250/250\n",
            "125/125 [==============================] - 4s 29ms/step - loss: 0.3201 - acc: 0.9055 - categorical_accuracy: 0.3085 - val_loss: 0.2514 - val_acc: 0.9180 - val_categorical_accuracy: 0.2030\n"
          ],
          "name": "stdout"
        },
        {
          "output_type": "execute_result",
          "data": {
            "text/plain": [
              "<keras.callbacks.History at 0x7fde95db3668>"
            ]
          },
          "metadata": {
            "tags": []
          },
          "execution_count": 208
        }
      ]
    },
    {
      "cell_type": "code",
      "metadata": {
        "id": "dAnYb2PqMnbP",
        "colab_type": "code",
        "colab": {}
      },
      "source": [
        "# Get predictions on training set\n",
        "predictions = model.predict(train_images)"
      ],
      "execution_count": 0,
      "outputs": []
    },
    {
      "cell_type": "code",
      "metadata": {
        "id": "wa3Uynq9OE8y",
        "colab_type": "code",
        "colab": {}
      },
      "source": [
        ""
      ],
      "execution_count": 0,
      "outputs": []
    },
    {
      "cell_type": "code",
      "metadata": {
        "id": "Z4ne8eVDYQK8",
        "colab_type": "code",
        "outputId": "c7c52474-953d-4e8b-8bd1-2fa4b94e131c",
        "colab": {
          "base_uri": "https://localhost:8080/",
          "height": 638
        }
      },
      "source": [
        "# Plot training and validation loss vs numer of epcochs\n",
        "plt.figure(figsize=(20,10))\n",
        "plt.plot(model.history.history['val_loss'],label='Validaiton Loss')\n",
        "plt.plot(model.history.history['loss'],label='Training Loss')\n",
        "plt.xlabel('Epochs')\n",
        "plt.ylabel('Sparse Categorical Crossentropy')\n",
        "plt.title('Training Loss')\n",
        "plt.legend()"
      ],
      "execution_count": 0,
      "outputs": [
        {
          "output_type": "execute_result",
          "data": {
            "text/plain": [
              "<matplotlib.legend.Legend at 0x7fde9591f7f0>"
            ]
          },
          "metadata": {
            "tags": []
          },
          "execution_count": 210
        },
        {
          "output_type": "display_data",
          "data": {
            "image/png": "[encoded data removed]",
            "text/plain": [
              "<Figure size 1440x720 with 1 Axes>"
            ]
          },
          "metadata": {
            "tags": []
          }
        }
      ]
    },
    {
      "cell_type": "code",
      "metadata": {
        "id": "e1_4-MN9Y9bH",
        "colab_type": "code",
        "colab": {}
      },
      "source": [
        "# Save files with the losses\n",
        "np.save(STEM_NAME+'valLoss.npy',model.history.history['val_loss'])\n",
        "\n",
        "np.save(STEM_NAME+'loss.npy',model.history.history['loss'])"
      ],
      "execution_count": 0,
      "outputs": []
    },
    {
      "cell_type": "code",
      "metadata": {
        "id": "V8x1KscSZHnI",
        "colab_type": "code",
        "colab": {}
      },
      "source": [
        "# Download from google colab\n",
        "files.download(STEM_NAME+'valLoss.npy')\n",
        "files.download(STEM_NAME+'loss.npy')"
      ],
      "execution_count": 0,
      "outputs": []
    },
    {
      "cell_type": "code",
      "metadata": {
        "id": "Hxz5fuvHsoaf",
        "colab_type": "code",
        "outputId": "c16c5e30-cc4f-4b3d-c303-ee110e7827e9",
        "colab": {
          "base_uri": "https://localhost:8080/",
          "height": 357
        }
      },
      "source": [
        "# Generate emission matrix report\n",
        "for i in range(4):\n",
        "  print(\"State {}\".format(i))\n",
        "  state_images = train_images[train_labels==i]\n",
        "  preds = model.predict(state_images)\n",
        "  for j in range(4):\n",
        "    prop = np.sum(np.argmax(preds,axis=1)==j)/preds.shape[0]\n",
        "    print(\"Predicted {} in {} percent of cases\".format(j,prop))"
      ],
      "execution_count": 0,
      "outputs": [
        {
          "output_type": "stream",
          "text": [
            "State 0\n",
            "Predicted 0 in 0.8937329700272479 percent of cases\n",
            "Predicted 1 in 0.08446866485013624 percent of cases\n",
            "Predicted 2 in 0.014986376021798364 percent of cases\n",
            "Predicted 3 in 0.006811989100817439 percent of cases\n",
            "State 1\n",
            "Predicted 0 in 0.01992337164750958 percent of cases\n",
            "Predicted 1 in 0.9773946360153257 percent of cases\n",
            "Predicted 2 in 0.0026819923371647508 percent of cases\n",
            "Predicted 3 in 0.0 percent of cases\n",
            "State 2\n",
            "Predicted 0 in 0.013888888888888888 percent of cases\n",
            "Predicted 1 in 0.08012820512820513 percent of cases\n",
            "Predicted 2 in 0.9027777777777778 percent of cases\n",
            "Predicted 3 in 0.003205128205128205 percent of cases\n",
            "State 3\n",
            "Predicted 0 in 0.2198952879581152 percent of cases\n",
            "Predicted 1 in 0.0 percent of cases\n",
            "Predicted 2 in 0.1256544502617801 percent of cases\n",
            "Predicted 3 in 0.6544502617801047 percent of cases\n"
          ],
          "name": "stdout"
        }
      ]
    },
    {
      "cell_type": "code",
      "metadata": {
        "id": "NK8CRZ4cM9lL",
        "colab_type": "code",
        "outputId": "3fd960e7-6b3e-49ea-dbb6-2852ea768c77",
        "colab": {
          "base_uri": "https://localhost:8080/",
          "height": 34
        }
      },
      "source": [
        "# Calculate overall accurac y\n",
        "np.sum(np.argmax(predictions,axis=1)==train_labels)/predictions.shape[0]"
      ],
      "execution_count": 0,
      "outputs": [
        {
          "output_type": "execute_result",
          "data": {
            "text/plain": [
              "0.9177031509121062"
            ]
          },
          "metadata": {
            "tags": []
          },
          "execution_count": 166
        }
      ]
    },
    {
      "cell_type": "code",
      "metadata": {
        "id": "KNeFZyUUeuzY",
        "colab_type": "code",
        "colab": {}
      },
      "source": [
        "\n",
        "from google.colab import files"
      ],
      "execution_count": 0,
      "outputs": []
    },
    {
      "cell_type": "code",
      "metadata": {
        "id": "X9PeMIJpew-W",
        "colab_type": "code",
        "colab": {}
      },
      "source": [
        "# Save the model weights\n",
        "SAVE_NAME = 'MODEL_WEIGHTS.h5'\n",
        "SAVE_NAME = STEM_NAME + SAVE_NAME\n",
        "model.save_weights(SAVE_NAME)\n"
      ],
      "execution_count": 0,
      "outputs": []
    },
    {
      "cell_type": "code",
      "metadata": {
        "id": "p9xTXBryr5gN",
        "colab_type": "code",
        "colab": {}
      },
      "source": [
        "files.download(SAVE_NAME)"
      ],
      "execution_count": 0,
      "outputs": []
    },
    {
      "cell_type": "code",
      "metadata": {
        "id": "E8ivl78Nr9WT",
        "colab_type": "code",
        "colab": {}
      },
      "source": [
        "# Save the model file\n",
        "MODEL_SAVE_NAME = 'MODEL.h5'\n",
        "MODEL_SAVE_NAME = STEM_NAME + MODEL_SAVE_NAME\n",
        "model.save(MODEL_SAVE_NAME)"
      ],
      "execution_count": 0,
      "outputs": []
    },
    {
      "cell_type": "code",
      "metadata": {
        "id": "mviaLgUDXpue",
        "colab_type": "code",
        "colab": {}
      },
      "source": [
        "files.download(MODEL_SAVE_NAME)"
      ],
      "execution_count": 0,
      "outputs": []
    },
    {
      "cell_type": "code",
      "metadata": {
        "id": "-aA436MtX3Zi",
        "colab_type": "code",
        "outputId": "aef88180-f420-443e-d9ac-fb73c0bf7440",
        "colab": {
          "base_uri": "https://localhost:8080/",
          "height": 164
        }
      },
      "source": [
        ""
      ],
      "execution_count": 0,
      "outputs": [
        {
          "output_type": "error",
          "ename": "AttributeError",
          "evalue": "ignored",
          "traceback": [
            "\u001b[0;31m---------------------------------------------------------------------------\u001b[0m",
            "\u001b[0;31mAttributeError\u001b[0m                            Traceback (most recent call last)",
            "\u001b[0;32m<ipython-input-26-2b8f53c67982>\u001b[0m in \u001b[0;36m<module>\u001b[0;34m()\u001b[0m\n\u001b[0;32m----> 1\u001b[0;31m \u001b[0mprint\u001b[0m\u001b[0;34m(\u001b[0m\u001b[0mhasHistory\u001b[0m\u001b[0;34m.\u001b[0m\u001b[0mhistory\u001b[0m\u001b[0;34m.\u001b[0m\u001b[0mhistory\u001b[0m\u001b[0;34m.\u001b[0m\u001b[0mkeys\u001b[0m\u001b[0;34m(\u001b[0m\u001b[0;34m)\u001b[0m\u001b[0;34m)\u001b[0m\u001b[0;34m\u001b[0m\u001b[0;34m\u001b[0m\u001b[0m\n\u001b[0m",
            "\u001b[0;31mAttributeError\u001b[0m: 'Sequential' object has no attribute 'history'"
          ]
        }
      ]
    },
    {
      "cell_type": "code",
      "metadata": {
        "id": "RtQ6eTOMYAbf",
        "colab_type": "code",
        "colab": {}
      },
      "source": [
        ""
      ],
      "execution_count": 0,
      "outputs": []
    }
  ]
}